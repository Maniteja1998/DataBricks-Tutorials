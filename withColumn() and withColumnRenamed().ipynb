{
 "cells": [
  {
   "cell_type": "code",
   "execution_count": 0,
   "metadata": {
    "application/vnd.databricks.v1+cell": {
     "cellMetadata": {},
     "inputWidgets": {},
     "nuid": "09a331bd-6606-417f-8128-dcdc99cac496",
     "showTitle": false,
     "tableResultSettingsMap": {},
     "title": ""
    }
   },
   "outputs": [],
   "source": [
    " /FileStore/tables/emp_1-2.csv"
   ]
  },
  {
   "cell_type": "code",
   "execution_count": 0,
   "metadata": {
    "application/vnd.databricks.v1+cell": {
     "cellMetadata": {
      "byteLimit": 2048000,
      "rowLimit": 10000
     },
     "inputWidgets": {},
     "nuid": "c604d473-7ae1-4c8b-912d-ba8fea5c05ce",
     "showTitle": true,
     "tableResultSettingsMap": {},
     "title": "Create a DataFrame"
    }
   },
   "outputs": [],
   "source": [
    "df = spark.read.csv(\"/FileStore/tables/emp_1-2.csv\",header=True,inferSchema=True)"
   ]
  },
  {
   "cell_type": "code",
   "execution_count": 0,
   "metadata": {
    "application/vnd.databricks.v1+cell": {
     "cellMetadata": {
      "byteLimit": 2048000,
      "rowLimit": 10000
     },
     "inputWidgets": {},
     "nuid": "33554282-8361-4ee6-a7e9-d49b4768afd2",
     "showTitle": false,
     "tableResultSettingsMap": {},
     "title": ""
    }
   },
   "outputs": [
    {
     "output_type": "display_data",
     "data": {
      "text/html": [
       "<style scoped>\n",
       "  .table-result-container {\n",
       "    max-height: 300px;\n",
       "    overflow: auto;\n",
       "  }\n",
       "  table, th, td {\n",
       "    border: 1px solid black;\n",
       "    border-collapse: collapse;\n",
       "  }\n",
       "  th, td {\n",
       "    padding: 5px;\n",
       "  }\n",
       "  th {\n",
       "    text-align: left;\n",
       "  }\n",
       "</style><div class='table-result-container'><table class='table-result'><thead style='background-color: white'><tr><th>emp_id</th><th>name</th><th>salary</th><th>address</th><th>loc</th><th>email</th></tr></thead><tbody><tr><td>1</td><td>manish</td><td>10000</td><td>india</td><td>null</td><td>null</td></tr><tr><td>2</td><td>rani</td><td>20000</td><td>usa</td><td>null</td><td>null</td></tr><tr><td>3</td><td>rinku</td><td>55000</td><td>india</td><td>null</td><td>null</td></tr><tr><td>4</td><td>neha</td><td>12000</td><td>usa</td><td>null</td><td>null</td></tr><tr><td>5</td><td>null</td><td>20000</td><td>usa</td><td>null</td><td>null</td></tr><tr><td>6</td><td>rahul</td><td>null</td><td>india</td><td>null</td><td>null</td></tr><tr><td>1</td><td>manish</td><td>10000</td><td>india</td><td>null</td><td>null</td></tr><tr><td>2</td><td>rani</td><td>20000</td><td>usa</td><td>null</td><td>null</td></tr><tr><td>3</td><td>rinku</td><td>55000</td><td>india</td><td>null</td><td>null</td></tr><tr><td>4</td><td>neha</td><td>12000</td><td>usa</td><td>null</td><td>null</td></tr><tr><td>5</td><td>null</td><td>20000</td><td>usa</td><td>null</td><td>null</td></tr><tr><td>6</td><td>rahul</td><td>null</td><td>india</td><td>null</td><td>null</td></tr></tbody></table></div>"
      ]
     },
     "metadata": {
      "application/vnd.databricks.v1+output": {
       "addedWidgets": {},
       "aggData": [],
       "aggError": "",
       "aggOverflow": false,
       "aggSchema": [],
       "aggSeriesLimitReached": false,
       "aggType": "",
       "arguments": {},
       "columnCustomDisplayInfos": {},
       "data": [
        [
         1,
         "manish",
         10000,
         "india",
         null,
         null
        ],
        [
         2,
         "rani",
         20000,
         "usa",
         null,
         null
        ],
        [
         3,
         "rinku",
         55000,
         "india",
         null,
         null
        ],
        [
         4,
         "neha",
         12000,
         "usa",
         null,
         null
        ],
        [
         5,
         null,
         20000,
         "usa",
         null,
         null
        ],
        [
         6,
         "rahul",
         null,
         "india",
         null,
         null
        ],
        [
         1,
         "manish",
         10000,
         "india",
         null,
         null
        ],
        [
         2,
         "rani",
         20000,
         "usa",
         null,
         null
        ],
        [
         3,
         "rinku",
         55000,
         "india",
         null,
         null
        ],
        [
         4,
         "neha",
         12000,
         "usa",
         null,
         null
        ],
        [
         5,
         null,
         20000,
         "usa",
         null,
         null
        ],
        [
         6,
         "rahul",
         null,
         "india",
         null,
         null
        ]
       ],
       "datasetInfos": [],
       "dbfsResultPath": null,
       "isJsonSchema": true,
       "metadata": {},
       "overflow": false,
       "plotOptions": {
        "customPlotOptions": {},
        "displayType": "table",
        "pivotAggregation": null,
        "pivotColumns": null,
        "xColumns": null,
        "yColumns": null
       },
       "removedWidgets": [],
       "schema": [
        {
         "metadata": "{}",
         "name": "emp_id",
         "type": "\"integer\""
        },
        {
         "metadata": "{}",
         "name": "name",
         "type": "\"string\""
        },
        {
         "metadata": "{}",
         "name": "salary",
         "type": "\"integer\""
        },
        {
         "metadata": "{}",
         "name": "address",
         "type": "\"string\""
        },
        {
         "metadata": "{}",
         "name": "loc",
         "type": "\"string\""
        },
        {
         "metadata": "{}",
         "name": "email",
         "type": "\"string\""
        }
       ],
       "type": "table"
      }
     },
     "output_type": "display_data"
    }
   ],
   "source": [
    "df.display()"
   ]
  },
  {
   "cell_type": "code",
   "execution_count": 0,
   "metadata": {
    "application/vnd.databricks.v1+cell": {
     "cellMetadata": {
      "byteLimit": 2048000,
      "rowLimit": 10000
     },
     "inputWidgets": {},
     "nuid": "512c7074-fc9e-4977-838a-03de5cf55700",
     "showTitle": true,
     "tableResultSettingsMap": {},
     "title": "Add new Column Based on existing Column"
    }
   },
   "outputs": [
    {
     "output_type": "display_data",
     "data": {
      "text/html": [
       "<style scoped>\n",
       "  .table-result-container {\n",
       "    max-height: 300px;\n",
       "    overflow: auto;\n",
       "  }\n",
       "  table, th, td {\n",
       "    border: 1px solid black;\n",
       "    border-collapse: collapse;\n",
       "  }\n",
       "  th, td {\n",
       "    padding: 5px;\n",
       "  }\n",
       "  th {\n",
       "    text-align: left;\n",
       "  }\n",
       "</style><div class='table-result-container'><table class='table-result'><thead style='background-color: white'><tr><th>emp_id</th><th>name</th><th>salary</th><th>address</th><th>loc</th><th>email</th><th>salary1</th></tr></thead><tbody><tr><td>1</td><td>manish</td><td>10000</td><td>india</td><td>null</td><td>null</td><td>100000</td></tr><tr><td>2</td><td>rani</td><td>20000</td><td>usa</td><td>null</td><td>null</td><td>200000</td></tr><tr><td>3</td><td>rinku</td><td>55000</td><td>india</td><td>null</td><td>null</td><td>550000</td></tr><tr><td>4</td><td>neha</td><td>12000</td><td>usa</td><td>null</td><td>null</td><td>120000</td></tr><tr><td>5</td><td>null</td><td>20000</td><td>usa</td><td>null</td><td>null</td><td>200000</td></tr><tr><td>6</td><td>rahul</td><td>null</td><td>india</td><td>null</td><td>null</td><td>null</td></tr><tr><td>1</td><td>manish</td><td>10000</td><td>india</td><td>null</td><td>null</td><td>100000</td></tr><tr><td>2</td><td>rani</td><td>20000</td><td>usa</td><td>null</td><td>null</td><td>200000</td></tr><tr><td>3</td><td>rinku</td><td>55000</td><td>india</td><td>null</td><td>null</td><td>550000</td></tr><tr><td>4</td><td>neha</td><td>12000</td><td>usa</td><td>null</td><td>null</td><td>120000</td></tr><tr><td>5</td><td>null</td><td>20000</td><td>usa</td><td>null</td><td>null</td><td>200000</td></tr><tr><td>6</td><td>rahul</td><td>null</td><td>india</td><td>null</td><td>null</td><td>null</td></tr></tbody></table></div>"
      ]
     },
     "metadata": {
      "application/vnd.databricks.v1+output": {
       "addedWidgets": {},
       "aggData": [],
       "aggError": "",
       "aggOverflow": false,
       "aggSchema": [],
       "aggSeriesLimitReached": false,
       "aggType": "",
       "arguments": {},
       "columnCustomDisplayInfos": {},
       "data": [
        [
         1,
         "manish",
         10000,
         "india",
         null,
         null,
         100000
        ],
        [
         2,
         "rani",
         20000,
         "usa",
         null,
         null,
         200000
        ],
        [
         3,
         "rinku",
         55000,
         "india",
         null,
         null,
         550000
        ],
        [
         4,
         "neha",
         12000,
         "usa",
         null,
         null,
         120000
        ],
        [
         5,
         null,
         20000,
         "usa",
         null,
         null,
         200000
        ],
        [
         6,
         "rahul",
         null,
         "india",
         null,
         null,
         null
        ],
        [
         1,
         "manish",
         10000,
         "india",
         null,
         null,
         100000
        ],
        [
         2,
         "rani",
         20000,
         "usa",
         null,
         null,
         200000
        ],
        [
         3,
         "rinku",
         55000,
         "india",
         null,
         null,
         550000
        ],
        [
         4,
         "neha",
         12000,
         "usa",
         null,
         null,
         120000
        ],
        [
         5,
         null,
         20000,
         "usa",
         null,
         null,
         200000
        ],
        [
         6,
         "rahul",
         null,
         "india",
         null,
         null,
         null
        ]
       ],
       "datasetInfos": [],
       "dbfsResultPath": null,
       "isJsonSchema": true,
       "metadata": {},
       "overflow": false,
       "plotOptions": {
        "customPlotOptions": {},
        "displayType": "table",
        "pivotAggregation": null,
        "pivotColumns": null,
        "xColumns": null,
        "yColumns": null
       },
       "removedWidgets": [],
       "schema": [
        {
         "metadata": "{}",
         "name": "emp_id",
         "type": "\"integer\""
        },
        {
         "metadata": "{}",
         "name": "name",
         "type": "\"string\""
        },
        {
         "metadata": "{}",
         "name": "salary",
         "type": "\"integer\""
        },
        {
         "metadata": "{}",
         "name": "address",
         "type": "\"string\""
        },
        {
         "metadata": "{}",
         "name": "loc",
         "type": "\"string\""
        },
        {
         "metadata": "{}",
         "name": "email",
         "type": "\"string\""
        },
        {
         "metadata": "{}",
         "name": "salary1",
         "type": "\"integer\""
        }
       ],
       "type": "table"
      }
     },
     "output_type": "display_data"
    }
   ],
   "source": [
    "df.withColumn(\"salary1\",df.salary*10).display()"
   ]
  },
  {
   "cell_type": "code",
   "execution_count": 0,
   "metadata": {
    "application/vnd.databricks.v1+cell": {
     "cellMetadata": {
      "byteLimit": 2048000,
      "rowLimit": 10000
     },
     "inputWidgets": {},
     "nuid": "b9245798-67aa-45a2-adfd-64f593e6f720",
     "showTitle": true,
     "tableResultSettingsMap": {},
     "title": "Add New Column Based on Constant Value"
    }
   },
   "outputs": [
    {
     "output_type": "display_data",
     "data": {
      "text/html": [
       "<style scoped>\n",
       "  .table-result-container {\n",
       "    max-height: 300px;\n",
       "    overflow: auto;\n",
       "  }\n",
       "  table, th, td {\n",
       "    border: 1px solid black;\n",
       "    border-collapse: collapse;\n",
       "  }\n",
       "  th, td {\n",
       "    padding: 5px;\n",
       "  }\n",
       "  th {\n",
       "    text-align: left;\n",
       "  }\n",
       "</style><div class='table-result-container'><table class='table-result'><thead style='background-color: white'><tr><th>emp_id</th><th>name</th><th>salary</th><th>address</th><th>loc</th><th>email</th><th>country</th></tr></thead><tbody><tr><td>1</td><td>manish</td><td>10000</td><td>india</td><td>null</td><td>null</td><td>usa</td></tr><tr><td>2</td><td>rani</td><td>20000</td><td>usa</td><td>null</td><td>null</td><td>usa</td></tr><tr><td>3</td><td>rinku</td><td>55000</td><td>india</td><td>null</td><td>null</td><td>usa</td></tr><tr><td>4</td><td>neha</td><td>12000</td><td>usa</td><td>null</td><td>null</td><td>usa</td></tr><tr><td>5</td><td>null</td><td>20000</td><td>usa</td><td>null</td><td>null</td><td>usa</td></tr><tr><td>6</td><td>rahul</td><td>null</td><td>india</td><td>null</td><td>null</td><td>usa</td></tr><tr><td>1</td><td>manish</td><td>10000</td><td>india</td><td>null</td><td>null</td><td>usa</td></tr><tr><td>2</td><td>rani</td><td>20000</td><td>usa</td><td>null</td><td>null</td><td>usa</td></tr><tr><td>3</td><td>rinku</td><td>55000</td><td>india</td><td>null</td><td>null</td><td>usa</td></tr><tr><td>4</td><td>neha</td><td>12000</td><td>usa</td><td>null</td><td>null</td><td>usa</td></tr><tr><td>5</td><td>null</td><td>20000</td><td>usa</td><td>null</td><td>null</td><td>usa</td></tr><tr><td>6</td><td>rahul</td><td>null</td><td>india</td><td>null</td><td>null</td><td>usa</td></tr></tbody></table></div>"
      ]
     },
     "metadata": {
      "application/vnd.databricks.v1+output": {
       "addedWidgets": {},
       "aggData": [],
       "aggError": "",
       "aggOverflow": false,
       "aggSchema": [],
       "aggSeriesLimitReached": false,
       "aggType": "",
       "arguments": {},
       "columnCustomDisplayInfos": {},
       "data": [
        [
         1,
         "manish",
         10000,
         "india",
         null,
         null,
         "usa"
        ],
        [
         2,
         "rani",
         20000,
         "usa",
         null,
         null,
         "usa"
        ],
        [
         3,
         "rinku",
         55000,
         "india",
         null,
         null,
         "usa"
        ],
        [
         4,
         "neha",
         12000,
         "usa",
         null,
         null,
         "usa"
        ],
        [
         5,
         null,
         20000,
         "usa",
         null,
         null,
         "usa"
        ],
        [
         6,
         "rahul",
         null,
         "india",
         null,
         null,
         "usa"
        ],
        [
         1,
         "manish",
         10000,
         "india",
         null,
         null,
         "usa"
        ],
        [
         2,
         "rani",
         20000,
         "usa",
         null,
         null,
         "usa"
        ],
        [
         3,
         "rinku",
         55000,
         "india",
         null,
         null,
         "usa"
        ],
        [
         4,
         "neha",
         12000,
         "usa",
         null,
         null,
         "usa"
        ],
        [
         5,
         null,
         20000,
         "usa",
         null,
         null,
         "usa"
        ],
        [
         6,
         "rahul",
         null,
         "india",
         null,
         null,
         "usa"
        ]
       ],
       "datasetInfos": [],
       "dbfsResultPath": null,
       "isJsonSchema": true,
       "metadata": {},
       "overflow": false,
       "plotOptions": {
        "customPlotOptions": {},
        "displayType": "table",
        "pivotAggregation": null,
        "pivotColumns": null,
        "xColumns": null,
        "yColumns": null
       },
       "removedWidgets": [],
       "schema": [
        {
         "metadata": "{}",
         "name": "emp_id",
         "type": "\"integer\""
        },
        {
         "metadata": "{}",
         "name": "name",
         "type": "\"string\""
        },
        {
         "metadata": "{}",
         "name": "salary",
         "type": "\"integer\""
        },
        {
         "metadata": "{}",
         "name": "address",
         "type": "\"string\""
        },
        {
         "metadata": "{}",
         "name": "loc",
         "type": "\"string\""
        },
        {
         "metadata": "{}",
         "name": "email",
         "type": "\"string\""
        },
        {
         "metadata": "{}",
         "name": "country",
         "type": "\"string\""
        }
       ],
       "type": "table"
      }
     },
     "output_type": "display_data"
    }
   ],
   "source": [
    "from pyspark.sql.functions import lit\n",
    "df.withColumn(\"country\",lit(\"usa\")).display()"
   ]
  },
  {
   "cell_type": "code",
   "execution_count": 0,
   "metadata": {
    "application/vnd.databricks.v1+cell": {
     "cellMetadata": {
      "byteLimit": 2048000,
      "rowLimit": 10000
     },
     "inputWidgets": {},
     "nuid": "e966b95f-4511-46a8-94b3-d140e70099b5",
     "showTitle": false,
     "tableResultSettingsMap": {},
     "title": ""
    }
   },
   "outputs": [
    {
     "output_type": "display_data",
     "data": {
      "text/html": [
       "<style scoped>\n",
       "  .table-result-container {\n",
       "    max-height: 300px;\n",
       "    overflow: auto;\n",
       "  }\n",
       "  table, th, td {\n",
       "    border: 1px solid black;\n",
       "    border-collapse: collapse;\n",
       "  }\n",
       "  th, td {\n",
       "    padding: 5px;\n",
       "  }\n",
       "  th {\n",
       "    text-align: left;\n",
       "  }\n",
       "</style><div class='table-result-container'><table class='table-result'><thead style='background-color: white'><tr><th>emp_id</th><th>name</th><th>salary</th><th>address</th><th>loc</th><th>email</th><th>increment</th></tr></thead><tbody><tr><td>1</td><td>manish</td><td>10000</td><td>india</td><td>null</td><td>null</td><td>0</td></tr><tr><td>2</td><td>rani</td><td>20000</td><td>usa</td><td>null</td><td>null</td><td>0</td></tr><tr><td>3</td><td>rinku</td><td>55000</td><td>india</td><td>null</td><td>null</td><td>0</td></tr><tr><td>4</td><td>neha</td><td>12000</td><td>usa</td><td>null</td><td>null</td><td>0</td></tr><tr><td>5</td><td>null</td><td>20000</td><td>usa</td><td>null</td><td>null</td><td>0</td></tr><tr><td>6</td><td>rahul</td><td>null</td><td>india</td><td>null</td><td>null</td><td>0</td></tr><tr><td>1</td><td>manish</td><td>10000</td><td>india</td><td>null</td><td>null</td><td>0</td></tr><tr><td>2</td><td>rani</td><td>20000</td><td>usa</td><td>null</td><td>null</td><td>0</td></tr><tr><td>3</td><td>rinku</td><td>55000</td><td>india</td><td>null</td><td>null</td><td>0</td></tr><tr><td>4</td><td>neha</td><td>12000</td><td>usa</td><td>null</td><td>null</td><td>0</td></tr><tr><td>5</td><td>null</td><td>20000</td><td>usa</td><td>null</td><td>null</td><td>0</td></tr><tr><td>6</td><td>rahul</td><td>null</td><td>india</td><td>null</td><td>null</td><td>0</td></tr></tbody></table></div>"
      ]
     },
     "metadata": {
      "application/vnd.databricks.v1+output": {
       "addedWidgets": {},
       "aggData": [],
       "aggError": "",
       "aggOverflow": false,
       "aggSchema": [],
       "aggSeriesLimitReached": false,
       "aggType": "",
       "arguments": {},
       "columnCustomDisplayInfos": {},
       "data": [
        [
         1,
         "manish",
         10000,
         "india",
         null,
         null,
         0
        ],
        [
         2,
         "rani",
         20000,
         "usa",
         null,
         null,
         0
        ],
        [
         3,
         "rinku",
         55000,
         "india",
         null,
         null,
         0
        ],
        [
         4,
         "neha",
         12000,
         "usa",
         null,
         null,
         0
        ],
        [
         5,
         null,
         20000,
         "usa",
         null,
         null,
         0
        ],
        [
         6,
         "rahul",
         null,
         "india",
         null,
         null,
         0
        ],
        [
         1,
         "manish",
         10000,
         "india",
         null,
         null,
         0
        ],
        [
         2,
         "rani",
         20000,
         "usa",
         null,
         null,
         0
        ],
        [
         3,
         "rinku",
         55000,
         "india",
         null,
         null,
         0
        ],
        [
         4,
         "neha",
         12000,
         "usa",
         null,
         null,
         0
        ],
        [
         5,
         null,
         20000,
         "usa",
         null,
         null,
         0
        ],
        [
         6,
         "rahul",
         null,
         "india",
         null,
         null,
         0
        ]
       ],
       "datasetInfos": [],
       "dbfsResultPath": null,
       "isJsonSchema": true,
       "metadata": {},
       "overflow": false,
       "plotOptions": {
        "customPlotOptions": {},
        "displayType": "table",
        "pivotAggregation": null,
        "pivotColumns": null,
        "xColumns": null,
        "yColumns": null
       },
       "removedWidgets": [],
       "schema": [
        {
         "metadata": "{}",
         "name": "emp_id",
         "type": "\"integer\""
        },
        {
         "metadata": "{}",
         "name": "name",
         "type": "\"string\""
        },
        {
         "metadata": "{}",
         "name": "salary",
         "type": "\"integer\""
        },
        {
         "metadata": "{}",
         "name": "address",
         "type": "\"string\""
        },
        {
         "metadata": "{}",
         "name": "loc",
         "type": "\"string\""
        },
        {
         "metadata": "{}",
         "name": "email",
         "type": "\"string\""
        },
        {
         "metadata": "{}",
         "name": "increment",
         "type": "\"integer\""
        }
       ],
       "type": "table"
      }
     },
     "output_type": "display_data"
    }
   ],
   "source": [
    "df.withColumn(\"increment\",lit(0)).display()"
   ]
  },
  {
   "cell_type": "code",
   "execution_count": 0,
   "metadata": {
    "application/vnd.databricks.v1+cell": {
     "cellMetadata": {
      "byteLimit": 2048000,
      "rowLimit": 10000
     },
     "inputWidgets": {},
     "nuid": "f3c922f4-7cc0-40bd-a047-e6a847ff076c",
     "showTitle": true,
     "tableResultSettingsMap": {},
     "title": "Update a Existing Schema"
    }
   },
   "outputs": [
    {
     "output_type": "display_data",
     "data": {
      "text/html": [
       "<style scoped>\n",
       "  .table-result-container {\n",
       "    max-height: 300px;\n",
       "    overflow: auto;\n",
       "  }\n",
       "  table, th, td {\n",
       "    border: 1px solid black;\n",
       "    border-collapse: collapse;\n",
       "  }\n",
       "  th, td {\n",
       "    padding: 5px;\n",
       "  }\n",
       "  th {\n",
       "    text-align: left;\n",
       "  }\n",
       "</style><div class='table-result-container'><table class='table-result'><thead style='background-color: white'><tr><th>emp_id</th><th>name</th><th>salary</th><th>address</th><th>loc</th><th>email</th></tr></thead><tbody><tr><td>1</td><td>manish</td><td>10000</td><td>india</td><td>null</td><td>null</td></tr><tr><td>2</td><td>rani</td><td>20000</td><td>usa</td><td>null</td><td>null</td></tr><tr><td>3</td><td>rinku</td><td>55000</td><td>india</td><td>null</td><td>null</td></tr><tr><td>4</td><td>neha</td><td>12000</td><td>usa</td><td>null</td><td>null</td></tr><tr><td>5</td><td>null</td><td>20000</td><td>usa</td><td>null</td><td>null</td></tr><tr><td>6</td><td>rahul</td><td>null</td><td>india</td><td>null</td><td>null</td></tr><tr><td>1</td><td>manish</td><td>10000</td><td>india</td><td>null</td><td>null</td></tr><tr><td>2</td><td>rani</td><td>20000</td><td>usa</td><td>null</td><td>null</td></tr><tr><td>3</td><td>rinku</td><td>55000</td><td>india</td><td>null</td><td>null</td></tr><tr><td>4</td><td>neha</td><td>12000</td><td>usa</td><td>null</td><td>null</td></tr><tr><td>5</td><td>null</td><td>20000</td><td>usa</td><td>null</td><td>null</td></tr><tr><td>6</td><td>rahul</td><td>null</td><td>india</td><td>null</td><td>null</td></tr></tbody></table></div>"
      ]
     },
     "metadata": {
      "application/vnd.databricks.v1+output": {
       "addedWidgets": {},
       "aggData": [],
       "aggError": "",
       "aggOverflow": false,
       "aggSchema": [],
       "aggSeriesLimitReached": false,
       "aggType": "",
       "arguments": {},
       "columnCustomDisplayInfos": {},
       "data": [
        [
         1,
         "manish",
         10000,
         "india",
         null,
         null
        ],
        [
         2,
         "rani",
         20000,
         "usa",
         null,
         null
        ],
        [
         3,
         "rinku",
         55000,
         "india",
         null,
         null
        ],
        [
         4,
         "neha",
         12000,
         "usa",
         null,
         null
        ],
        [
         5,
         null,
         20000,
         "usa",
         null,
         null
        ],
        [
         6,
         "rahul",
         null,
         "india",
         null,
         null
        ],
        [
         1,
         "manish",
         10000,
         "india",
         null,
         null
        ],
        [
         2,
         "rani",
         20000,
         "usa",
         null,
         null
        ],
        [
         3,
         "rinku",
         55000,
         "india",
         null,
         null
        ],
        [
         4,
         "neha",
         12000,
         "usa",
         null,
         null
        ],
        [
         5,
         null,
         20000,
         "usa",
         null,
         null
        ],
        [
         6,
         "rahul",
         null,
         "india",
         null,
         null
        ]
       ],
       "datasetInfos": [],
       "dbfsResultPath": null,
       "isJsonSchema": true,
       "metadata": {},
       "overflow": false,
       "plotOptions": {
        "customPlotOptions": {},
        "displayType": "table",
        "pivotAggregation": null,
        "pivotColumns": null,
        "xColumns": null,
        "yColumns": null
       },
       "removedWidgets": [],
       "schema": [
        {
         "metadata": "{}",
         "name": "emp_id",
         "type": "\"integer\""
        },
        {
         "metadata": "{}",
         "name": "name",
         "type": "\"string\""
        },
        {
         "metadata": "{}",
         "name": "salary",
         "type": "\"integer\""
        },
        {
         "metadata": "{}",
         "name": "address",
         "type": "\"string\""
        },
        {
         "metadata": "{}",
         "name": "loc",
         "type": "\"string\""
        },
        {
         "metadata": "{}",
         "name": "email",
         "type": "\"string\""
        }
       ],
       "type": "table"
      }
     },
     "output_type": "display_data"
    }
   ],
   "source": [
    "df.display()"
   ]
  },
  {
   "cell_type": "code",
   "execution_count": 0,
   "metadata": {
    "application/vnd.databricks.v1+cell": {
     "cellMetadata": {
      "byteLimit": 2048000,
      "rowLimit": 10000
     },
     "inputWidgets": {},
     "nuid": "2d1cd253-91cb-4085-b499-2b32aafed43f",
     "showTitle": false,
     "tableResultSettingsMap": {},
     "title": ""
    }
   },
   "outputs": [
    {
     "output_type": "stream",
     "name": "stdout",
     "output_type": "stream",
     "text": [
      "root\n |-- emp_id: integer (nullable = true)\n |-- name: string (nullable = true)\n |-- salary: integer (nullable = true)\n |-- address: string (nullable = true)\n |-- loc: string (nullable = true)\n |-- email: string (nullable = true)\n\n"
     ]
    }
   ],
   "source": [
    "df.printSchema()"
   ]
  },
  {
   "cell_type": "code",
   "execution_count": 0,
   "metadata": {
    "application/vnd.databricks.v1+cell": {
     "cellMetadata": {
      "byteLimit": 2048000,
      "rowLimit": 10000
     },
     "inputWidgets": {},
     "nuid": "55193fbc-b14e-44fd-8ecd-6fd48bb68335",
     "showTitle": false,
     "tableResultSettingsMap": {},
     "title": ""
    }
   },
   "outputs": [],
   "source": [
    "from pyspark.sql.functions import col\n",
    "df1 = df.withColumn(\"salary\",col(\"salary\").cast(\"Integer\"))"
   ]
  },
  {
   "cell_type": "code",
   "execution_count": 0,
   "metadata": {
    "application/vnd.databricks.v1+cell": {
     "cellMetadata": {
      "byteLimit": 2048000,
      "rowLimit": 10000
     },
     "inputWidgets": {},
     "nuid": "3aab331f-840a-40d8-972d-26ccb7ef1295",
     "showTitle": false,
     "tableResultSettingsMap": {},
     "title": ""
    }
   },
   "outputs": [
    {
     "output_type": "display_data",
     "data": {
      "text/html": [
       "<style scoped>\n",
       "  .table-result-container {\n",
       "    max-height: 300px;\n",
       "    overflow: auto;\n",
       "  }\n",
       "  table, th, td {\n",
       "    border: 1px solid black;\n",
       "    border-collapse: collapse;\n",
       "  }\n",
       "  th, td {\n",
       "    padding: 5px;\n",
       "  }\n",
       "  th {\n",
       "    text-align: left;\n",
       "  }\n",
       "</style><div class='table-result-container'><table class='table-result'><thead style='background-color: white'><tr><th>emp_id</th><th>name</th><th>salary</th><th>address</th><th>loc</th><th>email</th></tr></thead><tbody><tr><td>1</td><td>manish</td><td>10000</td><td>india</td><td>null</td><td>null</td></tr><tr><td>2</td><td>rani</td><td>20000</td><td>usa</td><td>null</td><td>null</td></tr><tr><td>3</td><td>rinku</td><td>55000</td><td>india</td><td>null</td><td>null</td></tr><tr><td>4</td><td>neha</td><td>12000</td><td>usa</td><td>null</td><td>null</td></tr><tr><td>5</td><td>null</td><td>20000</td><td>usa</td><td>null</td><td>null</td></tr><tr><td>6</td><td>rahul</td><td>null</td><td>india</td><td>null</td><td>null</td></tr><tr><td>1</td><td>manish</td><td>10000</td><td>india</td><td>null</td><td>null</td></tr><tr><td>2</td><td>rani</td><td>20000</td><td>usa</td><td>null</td><td>null</td></tr><tr><td>3</td><td>rinku</td><td>55000</td><td>india</td><td>null</td><td>null</td></tr><tr><td>4</td><td>neha</td><td>12000</td><td>usa</td><td>null</td><td>null</td></tr><tr><td>5</td><td>null</td><td>20000</td><td>usa</td><td>null</td><td>null</td></tr><tr><td>6</td><td>rahul</td><td>null</td><td>india</td><td>null</td><td>null</td></tr></tbody></table></div>"
      ]
     },
     "metadata": {
      "application/vnd.databricks.v1+output": {
       "addedWidgets": {},
       "aggData": [],
       "aggError": "",
       "aggOverflow": false,
       "aggSchema": [],
       "aggSeriesLimitReached": false,
       "aggType": "",
       "arguments": {},
       "columnCustomDisplayInfos": {},
       "data": [
        [
         1,
         "manish",
         10000,
         "india",
         null,
         null
        ],
        [
         2,
         "rani",
         20000,
         "usa",
         null,
         null
        ],
        [
         3,
         "rinku",
         55000,
         "india",
         null,
         null
        ],
        [
         4,
         "neha",
         12000,
         "usa",
         null,
         null
        ],
        [
         5,
         null,
         20000,
         "usa",
         null,
         null
        ],
        [
         6,
         "rahul",
         null,
         "india",
         null,
         null
        ],
        [
         1,
         "manish",
         10000,
         "india",
         null,
         null
        ],
        [
         2,
         "rani",
         20000,
         "usa",
         null,
         null
        ],
        [
         3,
         "rinku",
         55000,
         "india",
         null,
         null
        ],
        [
         4,
         "neha",
         12000,
         "usa",
         null,
         null
        ],
        [
         5,
         null,
         20000,
         "usa",
         null,
         null
        ],
        [
         6,
         "rahul",
         null,
         "india",
         null,
         null
        ]
       ],
       "datasetInfos": [],
       "dbfsResultPath": null,
       "isJsonSchema": true,
       "metadata": {},
       "overflow": false,
       "plotOptions": {
        "customPlotOptions": {},
        "displayType": "table",
        "pivotAggregation": null,
        "pivotColumns": null,
        "xColumns": null,
        "yColumns": null
       },
       "removedWidgets": [],
       "schema": [
        {
         "metadata": "{}",
         "name": "emp_id",
         "type": "\"integer\""
        },
        {
         "metadata": "{}",
         "name": "name",
         "type": "\"string\""
        },
        {
         "metadata": "{}",
         "name": "salary",
         "type": "\"integer\""
        },
        {
         "metadata": "{}",
         "name": "address",
         "type": "\"string\""
        },
        {
         "metadata": "{}",
         "name": "loc",
         "type": "\"string\""
        },
        {
         "metadata": "{}",
         "name": "email",
         "type": "\"string\""
        }
       ],
       "type": "table"
      }
     },
     "output_type": "display_data"
    }
   ],
   "source": [
    "df1.display()"
   ]
  },
  {
   "cell_type": "code",
   "execution_count": 0,
   "metadata": {
    "application/vnd.databricks.v1+cell": {
     "cellMetadata": {
      "byteLimit": 2048000,
      "rowLimit": 10000
     },
     "inputWidgets": {},
     "nuid": "0900d58d-f1de-43c3-bcd9-085a92f9148e",
     "showTitle": false,
     "tableResultSettingsMap": {},
     "title": ""
    }
   },
   "outputs": [
    {
     "output_type": "stream",
     "name": "stdout",
     "output_type": "stream",
     "text": [
      "root\n |-- emp_id: integer (nullable = true)\n |-- name: string (nullable = true)\n |-- salary: integer (nullable = true)\n |-- address: string (nullable = true)\n |-- loc: string (nullable = true)\n |-- email: string (nullable = true)\n\n"
     ]
    }
   ],
   "source": [
    "df1.printSchema()"
   ]
  },
  {
   "cell_type": "code",
   "execution_count": 0,
   "metadata": {
    "application/vnd.databricks.v1+cell": {
     "cellMetadata": {
      "byteLimit": 2048000,
      "rowLimit": 10000
     },
     "inputWidgets": {},
     "nuid": "322c5c50-5f71-4b3b-b720-8e147259da64",
     "showTitle": true,
     "tableResultSettingsMap": {},
     "title": "Rename Column"
    }
   },
   "outputs": [
    {
     "output_type": "stream",
     "name": "stdout",
     "output_type": "stream",
     "text": [
      "+------+------+------+-------+--------+-----+\n|emp_id|  name|salary|address|location|email|\n+------+------+------+-------+--------+-----+\n|     1|manish| 10000|  india|    null| null|\n|     2|  rani| 20000|    usa|    null| null|\n|     3| rinku| 55000|  india|    null| null|\n|     4|  neha| 12000|    usa|    null| null|\n|     5|  null| 20000|    usa|    null| null|\n|     6| rahul|  null|  india|    null| null|\n|     1|manish| 10000|  india|    null| null|\n|     2|  rani| 20000|    usa|    null| null|\n|     3| rinku| 55000|  india|    null| null|\n|     4|  neha| 12000|    usa|    null| null|\n|     5|  null| 20000|    usa|    null| null|\n|     6| rahul|  null|  india|    null| null|\n+------+------+------+-------+--------+-----+\n\n"
     ]
    }
   ],
   "source": [
    "df.withColumnRenamed(\"loc\",\"location\").show()"
   ]
  }
 ],
 "metadata": {
  "application/vnd.databricks.v1+notebook": {
   "dashboards": [],
   "environmentMetadata": null,
   "language": "python",
   "notebookMetadata": {
    "pythonIndentUnit": 2
   },
   "notebookName": "withColumn() and withColumnRenamed()",
   "widgets": {}
  }
 },
 "nbformat": 4,
 "nbformat_minor": 0
}
