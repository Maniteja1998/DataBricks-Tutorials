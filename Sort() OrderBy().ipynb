{
 "cells": [
  {
   "cell_type": "code",
   "execution_count": 0,
   "metadata": {
    "application/vnd.databricks.v1+cell": {
     "cellMetadata": {},
     "inputWidgets": {},
     "nuid": "e4b63e5a-9b15-4bf8-8f66-e32871aaaf44",
     "showTitle": false,
     "tableResultSettingsMap": {},
     "title": ""
    }
   },
   "outputs": [],
   "source": [
    "/FileStore/tables/emp_1-5.csv"
   ]
  },
  {
   "cell_type": "code",
   "execution_count": 0,
   "metadata": {
    "application/vnd.databricks.v1+cell": {
     "cellMetadata": {
      "byteLimit": 2048000,
      "rowLimit": 10000
     },
     "inputWidgets": {},
     "nuid": "eabffc6d-e148-4056-aa75-105e0e437009",
     "showTitle": false,
     "tableResultSettingsMap": {},
     "title": ""
    }
   },
   "outputs": [],
   "source": [
    "df = spark.read.csv(\"/FileStore/tables/emp_1-5.csv\",header=True,inferSchema=True)"
   ]
  },
  {
   "cell_type": "code",
   "execution_count": 0,
   "metadata": {
    "application/vnd.databricks.v1+cell": {
     "cellMetadata": {
      "byteLimit": 2048000,
      "rowLimit": 10000
     },
     "inputWidgets": {},
     "nuid": "16b1b245-c31c-4f57-b688-a92c5ab1fe09",
     "showTitle": false,
     "tableResultSettingsMap": {},
     "title": ""
    }
   },
   "outputs": [
    {
     "output_type": "display_data",
     "data": {
      "text/html": [
       "<style scoped>\n",
       "  .table-result-container {\n",
       "    max-height: 300px;\n",
       "    overflow: auto;\n",
       "  }\n",
       "  table, th, td {\n",
       "    border: 1px solid black;\n",
       "    border-collapse: collapse;\n",
       "  }\n",
       "  th, td {\n",
       "    padding: 5px;\n",
       "  }\n",
       "  th {\n",
       "    text-align: left;\n",
       "  }\n",
       "</style><div class='table-result-container'><table class='table-result'><thead style='background-color: white'><tr><th>emp_id</th><th>name</th><th>salary</th><th>address</th><th>loc</th><th>email</th></tr></thead><tbody><tr><td>1</td><td>manish</td><td>10000</td><td>india</td><td>null</td><td>null</td></tr><tr><td>2</td><td>rani</td><td>20000</td><td>usa</td><td>null</td><td>null</td></tr><tr><td>3</td><td>rinku</td><td>55000</td><td>india</td><td>null</td><td>null</td></tr><tr><td>4</td><td>neha</td><td>12000</td><td>usa</td><td>null</td><td>null</td></tr><tr><td>5</td><td>null</td><td>20000</td><td>usa</td><td>null</td><td>null</td></tr><tr><td>6</td><td>rahul</td><td>null</td><td>india</td><td>null</td><td>null</td></tr><tr><td>1</td><td>manish</td><td>10000</td><td>india</td><td>null</td><td>null</td></tr><tr><td>2</td><td>rani</td><td>20000</td><td>usa</td><td>null</td><td>null</td></tr><tr><td>3</td><td>rinku</td><td>55000</td><td>india</td><td>null</td><td>null</td></tr><tr><td>4</td><td>neha</td><td>12000</td><td>usa</td><td>null</td><td>null</td></tr><tr><td>5</td><td>null</td><td>20000</td><td>usa</td><td>null</td><td>null</td></tr><tr><td>6</td><td>rahul</td><td>null</td><td>india</td><td>null</td><td>null</td></tr></tbody></table></div>"
      ]
     },
     "metadata": {
      "application/vnd.databricks.v1+output": {
       "addedWidgets": {},
       "aggData": [],
       "aggError": "",
       "aggOverflow": false,
       "aggSchema": [],
       "aggSeriesLimitReached": false,
       "aggType": "",
       "arguments": {},
       "columnCustomDisplayInfos": {},
       "data": [
        [
         1,
         "manish",
         10000,
         "india",
         null,
         null
        ],
        [
         2,
         "rani",
         20000,
         "usa",
         null,
         null
        ],
        [
         3,
         "rinku",
         55000,
         "india",
         null,
         null
        ],
        [
         4,
         "neha",
         12000,
         "usa",
         null,
         null
        ],
        [
         5,
         null,
         20000,
         "usa",
         null,
         null
        ],
        [
         6,
         "rahul",
         null,
         "india",
         null,
         null
        ],
        [
         1,
         "manish",
         10000,
         "india",
         null,
         null
        ],
        [
         2,
         "rani",
         20000,
         "usa",
         null,
         null
        ],
        [
         3,
         "rinku",
         55000,
         "india",
         null,
         null
        ],
        [
         4,
         "neha",
         12000,
         "usa",
         null,
         null
        ],
        [
         5,
         null,
         20000,
         "usa",
         null,
         null
        ],
        [
         6,
         "rahul",
         null,
         "india",
         null,
         null
        ]
       ],
       "datasetInfos": [],
       "dbfsResultPath": null,
       "isJsonSchema": true,
       "metadata": {},
       "overflow": false,
       "plotOptions": {
        "customPlotOptions": {},
        "displayType": "table",
        "pivotAggregation": null,
        "pivotColumns": null,
        "xColumns": null,
        "yColumns": null
       },
       "removedWidgets": [],
       "schema": [
        {
         "metadata": "{}",
         "name": "emp_id",
         "type": "\"integer\""
        },
        {
         "metadata": "{}",
         "name": "name",
         "type": "\"string\""
        },
        {
         "metadata": "{}",
         "name": "salary",
         "type": "\"integer\""
        },
        {
         "metadata": "{}",
         "name": "address",
         "type": "\"string\""
        },
        {
         "metadata": "{}",
         "name": "loc",
         "type": "\"string\""
        },
        {
         "metadata": "{}",
         "name": "email",
         "type": "\"string\""
        }
       ],
       "type": "table"
      }
     },
     "output_type": "display_data"
    }
   ],
   "source": [
    "df.display()"
   ]
  },
  {
   "cell_type": "code",
   "execution_count": 0,
   "metadata": {
    "application/vnd.databricks.v1+cell": {
     "cellMetadata": {
      "byteLimit": 2048000,
      "rowLimit": 10000
     },
     "inputWidgets": {},
     "nuid": "28109a76-1990-4fa8-b158-d95b631590b5",
     "showTitle": true,
     "tableResultSettingsMap": {},
     "title": "Sorted Based on Ascending"
    }
   },
   "outputs": [
    {
     "output_type": "stream",
     "name": "stdout",
     "output_type": "stream",
     "text": [
      "+------+------+------+-------+----+-----+\n|emp_id|  name|salary|address| loc|email|\n+------+------+------+-------+----+-----+\n|     6| rahul|  null|  india|null| null|\n|     6| rahul|  null|  india|null| null|\n|     1|manish| 10000|  india|null| null|\n|     1|manish| 10000|  india|null| null|\n|     4|  neha| 12000|    usa|null| null|\n|     4|  neha| 12000|    usa|null| null|\n|     2|  rani| 20000|    usa|null| null|\n|     5|  null| 20000|    usa|null| null|\n|     2|  rani| 20000|    usa|null| null|\n|     5|  null| 20000|    usa|null| null|\n|     3| rinku| 55000|  india|null| null|\n|     3| rinku| 55000|  india|null| null|\n+------+------+------+-------+----+-----+\n\n"
     ]
    }
   ],
   "source": [
    "df.sort(\"salary\").show()"
   ]
  },
  {
   "cell_type": "code",
   "execution_count": 0,
   "metadata": {
    "application/vnd.databricks.v1+cell": {
     "cellMetadata": {
      "byteLimit": 2048000,
      "rowLimit": 10000
     },
     "inputWidgets": {},
     "nuid": "81b655e8-c3f0-447f-93aa-6580b48eba7b",
     "showTitle": false,
     "tableResultSettingsMap": {},
     "title": ""
    }
   },
   "outputs": [
    {
     "output_type": "stream",
     "name": "stdout",
     "output_type": "stream",
     "text": [
      "+------+------+------+-------+----+-----+\n|emp_id|  name|salary|address| loc|email|\n+------+------+------+-------+----+-----+\n|     6| rahul|  null|  india|null| null|\n|     6| rahul|  null|  india|null| null|\n|     1|manish| 10000|  india|null| null|\n|     1|manish| 10000|  india|null| null|\n|     4|  neha| 12000|    usa|null| null|\n|     4|  neha| 12000|    usa|null| null|\n|     5|  null| 20000|    usa|null| null|\n|     5|  null| 20000|    usa|null| null|\n|     2|  rani| 20000|    usa|null| null|\n|     2|  rani| 20000|    usa|null| null|\n|     3| rinku| 55000|  india|null| null|\n|     3| rinku| 55000|  india|null| null|\n+------+------+------+-------+----+-----+\n\n"
     ]
    }
   ],
   "source": [
    "df.sort(\"salary\",\"name\").show()"
   ]
  },
  {
   "cell_type": "code",
   "execution_count": 0,
   "metadata": {
    "application/vnd.databricks.v1+cell": {
     "cellMetadata": {
      "byteLimit": 2048000,
      "rowLimit": 10000
     },
     "inputWidgets": {},
     "nuid": "1d08a8a0-78cd-4d3b-80f7-6265b6bf5723",
     "showTitle": false,
     "tableResultSettingsMap": {},
     "title": ""
    }
   },
   "outputs": [
    {
     "output_type": "stream",
     "name": "stdout",
     "output_type": "stream",
     "text": [
      "+------+------+------+-------+----+-----+\n|emp_id|  name|salary|address| loc|email|\n+------+------+------+-------+----+-----+\n|     6| rahul|  null|  india|null| null|\n|     6| rahul|  null|  india|null| null|\n|     1|manish| 10000|  india|null| null|\n|     1|manish| 10000|  india|null| null|\n|     4|  neha| 12000|    usa|null| null|\n|     4|  neha| 12000|    usa|null| null|\n|     2|  rani| 20000|    usa|null| null|\n|     5|  null| 20000|    usa|null| null|\n|     2|  rani| 20000|    usa|null| null|\n|     5|  null| 20000|    usa|null| null|\n|     3| rinku| 55000|  india|null| null|\n|     3| rinku| 55000|  india|null| null|\n+------+------+------+-------+----+-----+\n\n"
     ]
    }
   ],
   "source": [
    "df.orderBy(\"salary\").show()"
   ]
  },
  {
   "cell_type": "code",
   "execution_count": 0,
   "metadata": {
    "application/vnd.databricks.v1+cell": {
     "cellMetadata": {
      "byteLimit": 2048000,
      "rowLimit": 10000
     },
     "inputWidgets": {},
     "nuid": "a354e741-36ce-4205-a0b1-2c7ac4a5ff3c",
     "showTitle": false,
     "tableResultSettingsMap": {},
     "title": ""
    }
   },
   "outputs": [
    {
     "output_type": "stream",
     "name": "stdout",
     "output_type": "stream",
     "text": [
      "+------+------+------+-------+----+-----+\n|emp_id|  name|salary|address| loc|email|\n+------+------+------+-------+----+-----+\n|     6| rahul|  null|  india|null| null|\n|     6| rahul|  null|  india|null| null|\n|     1|manish| 10000|  india|null| null|\n|     1|manish| 10000|  india|null| null|\n|     4|  neha| 12000|    usa|null| null|\n|     4|  neha| 12000|    usa|null| null|\n|     5|  null| 20000|    usa|null| null|\n|     5|  null| 20000|    usa|null| null|\n|     2|  rani| 20000|    usa|null| null|\n|     2|  rani| 20000|    usa|null| null|\n|     3| rinku| 55000|  india|null| null|\n|     3| rinku| 55000|  india|null| null|\n+------+------+------+-------+----+-----+\n\n"
     ]
    }
   ],
   "source": [
    "df.orderBy(\"salary\",\"name\").show()"
   ]
  },
  {
   "cell_type": "code",
   "execution_count": 0,
   "metadata": {
    "application/vnd.databricks.v1+cell": {
     "cellMetadata": {
      "byteLimit": 2048000,
      "rowLimit": 10000
     },
     "inputWidgets": {},
     "nuid": "c25c4898-7f2d-417d-ae57-dc01c9105ead",
     "showTitle": false,
     "tableResultSettingsMap": {},
     "title": ""
    }
   },
   "outputs": [
    {
     "output_type": "stream",
     "name": "stdout",
     "output_type": "stream",
     "text": [
      "+------+------+------+-------+----+-----+\n|emp_id|  name|salary|address| loc|email|\n+------+------+------+-------+----+-----+\n|     3| rinku| 55000|  india|null| null|\n|     3| rinku| 55000|  india|null| null|\n|     2|  rani| 20000|    usa|null| null|\n|     5|  null| 20000|    usa|null| null|\n|     2|  rani| 20000|    usa|null| null|\n|     5|  null| 20000|    usa|null| null|\n|     4|  neha| 12000|    usa|null| null|\n|     4|  neha| 12000|    usa|null| null|\n|     1|manish| 10000|  india|null| null|\n|     1|manish| 10000|  india|null| null|\n|     6| rahul|  null|  india|null| null|\n|     6| rahul|  null|  india|null| null|\n+------+------+------+-------+----+-----+\n\n"
     ]
    }
   ],
   "source": [
    "df.sort(df.salary.desc()).show()"
   ]
  },
  {
   "cell_type": "code",
   "execution_count": 0,
   "metadata": {
    "application/vnd.databricks.v1+cell": {
     "cellMetadata": {
      "byteLimit": 2048000,
      "rowLimit": 10000
     },
     "inputWidgets": {},
     "nuid": "7ff657a9-d2f6-408c-9592-1fbc5b049b32",
     "showTitle": false,
     "tableResultSettingsMap": {},
     "title": ""
    }
   },
   "outputs": [
    {
     "output_type": "stream",
     "name": "stdout",
     "output_type": "stream",
     "text": [
      "+------+------+------+-------+----+-----+\n|emp_id|  name|salary|address| loc|email|\n+------+------+------+-------+----+-----+\n|     3| rinku| 55000|  india|null| null|\n|     3| rinku| 55000|  india|null| null|\n|     2|  rani| 20000|    usa|null| null|\n|     5|  null| 20000|    usa|null| null|\n|     2|  rani| 20000|    usa|null| null|\n|     5|  null| 20000|    usa|null| null|\n|     4|  neha| 12000|    usa|null| null|\n|     4|  neha| 12000|    usa|null| null|\n|     1|manish| 10000|  india|null| null|\n|     1|manish| 10000|  india|null| null|\n|     6| rahul|  null|  india|null| null|\n|     6| rahul|  null|  india|null| null|\n+------+------+------+-------+----+-----+\n\n"
     ]
    }
   ],
   "source": [
    "df.orderBy(df.salary.desc()).show()"
   ]
  }
 ],
 "metadata": {
  "application/vnd.databricks.v1+notebook": {
   "dashboards": [],
   "environmentMetadata": null,
   "language": "python",
   "notebookMetadata": {
    "pythonIndentUnit": 2
   },
   "notebookName": "Sort() OrderBy()",
   "widgets": {}
  }
 },
 "nbformat": 4,
 "nbformat_minor": 0
}
