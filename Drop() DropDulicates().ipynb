{
 "cells": [
  {
   "cell_type": "code",
   "execution_count": 0,
   "metadata": {
    "application/vnd.databricks.v1+cell": {
     "cellMetadata": {},
     "inputWidgets": {},
     "nuid": "e5a3b89a-9fa8-42b8-98c9-9a097a95f910",
     "showTitle": true,
     "tableResultSettingsMap": {},
     "title": "Its Removes the Duplicates"
    }
   },
   "outputs": [],
   "source": [
    "/FileStore/tables/emp_1-4.csv"
   ]
  },
  {
   "cell_type": "code",
   "execution_count": 0,
   "metadata": {
    "application/vnd.databricks.v1+cell": {
     "cellMetadata": {
      "byteLimit": 2048000,
      "rowLimit": 10000
     },
     "inputWidgets": {},
     "nuid": "72b149b9-5870-4b3c-93d8-8f1db609851a",
     "showTitle": false,
     "tableResultSettingsMap": {},
     "title": ""
    }
   },
   "outputs": [],
   "source": [
    "df = spark.read.csv(\"/FileStore/tables/emp_1-4.csv\",header=True,inferSchema=True)"
   ]
  },
  {
   "cell_type": "code",
   "execution_count": 0,
   "metadata": {
    "application/vnd.databricks.v1+cell": {
     "cellMetadata": {
      "byteLimit": 2048000,
      "rowLimit": 10000
     },
     "inputWidgets": {},
     "nuid": "157388de-1ae5-43ce-a760-c374fd6e97d4",
     "showTitle": false,
     "tableResultSettingsMap": {},
     "title": ""
    }
   },
   "outputs": [
    {
     "output_type": "display_data",
     "data": {
      "text/html": [
       "<style scoped>\n",
       "  .table-result-container {\n",
       "    max-height: 300px;\n",
       "    overflow: auto;\n",
       "  }\n",
       "  table, th, td {\n",
       "    border: 1px solid black;\n",
       "    border-collapse: collapse;\n",
       "  }\n",
       "  th, td {\n",
       "    padding: 5px;\n",
       "  }\n",
       "  th {\n",
       "    text-align: left;\n",
       "  }\n",
       "</style><div class='table-result-container'><table class='table-result'><thead style='background-color: white'><tr><th>emp_id</th><th>name</th><th>salary</th><th>address</th><th>loc</th><th>email</th></tr></thead><tbody><tr><td>1</td><td>manish</td><td>10000</td><td>india</td><td>null</td><td>null</td></tr><tr><td>2</td><td>rani</td><td>20000</td><td>usa</td><td>null</td><td>null</td></tr><tr><td>3</td><td>rinku</td><td>55000</td><td>india</td><td>null</td><td>null</td></tr><tr><td>4</td><td>neha</td><td>12000</td><td>usa</td><td>null</td><td>null</td></tr><tr><td>5</td><td>null</td><td>20000</td><td>usa</td><td>null</td><td>null</td></tr><tr><td>6</td><td>rahul</td><td>null</td><td>india</td><td>null</td><td>null</td></tr><tr><td>1</td><td>manish</td><td>10000</td><td>india</td><td>null</td><td>null</td></tr><tr><td>2</td><td>rani</td><td>20000</td><td>usa</td><td>null</td><td>null</td></tr><tr><td>3</td><td>rinku</td><td>55000</td><td>india</td><td>null</td><td>null</td></tr><tr><td>4</td><td>neha</td><td>12000</td><td>usa</td><td>null</td><td>null</td></tr><tr><td>5</td><td>null</td><td>20000</td><td>usa</td><td>null</td><td>null</td></tr><tr><td>6</td><td>rahul</td><td>null</td><td>india</td><td>null</td><td>null</td></tr></tbody></table></div>"
      ]
     },
     "metadata": {
      "application/vnd.databricks.v1+output": {
       "addedWidgets": {},
       "aggData": [],
       "aggError": "",
       "aggOverflow": false,
       "aggSchema": [],
       "aggSeriesLimitReached": false,
       "aggType": "",
       "arguments": {},
       "columnCustomDisplayInfos": {},
       "data": [
        [
         1,
         "manish",
         10000,
         "india",
         null,
         null
        ],
        [
         2,
         "rani",
         20000,
         "usa",
         null,
         null
        ],
        [
         3,
         "rinku",
         55000,
         "india",
         null,
         null
        ],
        [
         4,
         "neha",
         12000,
         "usa",
         null,
         null
        ],
        [
         5,
         null,
         20000,
         "usa",
         null,
         null
        ],
        [
         6,
         "rahul",
         null,
         "india",
         null,
         null
        ],
        [
         1,
         "manish",
         10000,
         "india",
         null,
         null
        ],
        [
         2,
         "rani",
         20000,
         "usa",
         null,
         null
        ],
        [
         3,
         "rinku",
         55000,
         "india",
         null,
         null
        ],
        [
         4,
         "neha",
         12000,
         "usa",
         null,
         null
        ],
        [
         5,
         null,
         20000,
         "usa",
         null,
         null
        ],
        [
         6,
         "rahul",
         null,
         "india",
         null,
         null
        ]
       ],
       "datasetInfos": [],
       "dbfsResultPath": null,
       "isJsonSchema": true,
       "metadata": {},
       "overflow": false,
       "plotOptions": {
        "customPlotOptions": {},
        "displayType": "table",
        "pivotAggregation": null,
        "pivotColumns": null,
        "xColumns": null,
        "yColumns": null
       },
       "removedWidgets": [],
       "schema": [
        {
         "metadata": "{}",
         "name": "emp_id",
         "type": "\"integer\""
        },
        {
         "metadata": "{}",
         "name": "name",
         "type": "\"string\""
        },
        {
         "metadata": "{}",
         "name": "salary",
         "type": "\"integer\""
        },
        {
         "metadata": "{}",
         "name": "address",
         "type": "\"string\""
        },
        {
         "metadata": "{}",
         "name": "loc",
         "type": "\"string\""
        },
        {
         "metadata": "{}",
         "name": "email",
         "type": "\"string\""
        }
       ],
       "type": "table"
      }
     },
     "output_type": "display_data"
    }
   ],
   "source": [
    "df.display()"
   ]
  },
  {
   "cell_type": "code",
   "execution_count": 0,
   "metadata": {
    "application/vnd.databricks.v1+cell": {
     "cellMetadata": {
      "byteLimit": 2048000,
      "rowLimit": 10000
     },
     "inputWidgets": {},
     "nuid": "b92e08f9-e1f3-4aa5-8536-dc2bbc646308",
     "showTitle": false,
     "tableResultSettingsMap": {},
     "title": ""
    }
   },
   "outputs": [],
   "source": [
    "df1=df.distinct()"
   ]
  },
  {
   "cell_type": "code",
   "execution_count": 0,
   "metadata": {
    "application/vnd.databricks.v1+cell": {
     "cellMetadata": {
      "byteLimit": 2048000,
      "rowLimit": 10000
     },
     "inputWidgets": {},
     "nuid": "5f394a83-2dd8-4687-9eb4-076d1d99e93e",
     "showTitle": false,
     "tableResultSettingsMap": {},
     "title": ""
    }
   },
   "outputs": [
    {
     "output_type": "display_data",
     "data": {
      "text/html": [
       "<style scoped>\n",
       "  .table-result-container {\n",
       "    max-height: 300px;\n",
       "    overflow: auto;\n",
       "  }\n",
       "  table, th, td {\n",
       "    border: 1px solid black;\n",
       "    border-collapse: collapse;\n",
       "  }\n",
       "  th, td {\n",
       "    padding: 5px;\n",
       "  }\n",
       "  th {\n",
       "    text-align: left;\n",
       "  }\n",
       "</style><div class='table-result-container'><table class='table-result'><thead style='background-color: white'><tr><th>emp_id</th><th>name</th><th>salary</th><th>address</th><th>loc</th><th>email</th></tr></thead><tbody><tr><td>6</td><td>rahul</td><td>null</td><td>india</td><td>null</td><td>null</td></tr><tr><td>4</td><td>neha</td><td>12000</td><td>usa</td><td>null</td><td>null</td></tr><tr><td>2</td><td>rani</td><td>20000</td><td>usa</td><td>null</td><td>null</td></tr><tr><td>5</td><td>null</td><td>20000</td><td>usa</td><td>null</td><td>null</td></tr><tr><td>3</td><td>rinku</td><td>55000</td><td>india</td><td>null</td><td>null</td></tr><tr><td>1</td><td>manish</td><td>10000</td><td>india</td><td>null</td><td>null</td></tr></tbody></table></div>"
      ]
     },
     "metadata": {
      "application/vnd.databricks.v1+output": {
       "addedWidgets": {},
       "aggData": [],
       "aggError": "",
       "aggOverflow": false,
       "aggSchema": [],
       "aggSeriesLimitReached": false,
       "aggType": "",
       "arguments": {},
       "columnCustomDisplayInfos": {},
       "data": [
        [
         6,
         "rahul",
         null,
         "india",
         null,
         null
        ],
        [
         4,
         "neha",
         12000,
         "usa",
         null,
         null
        ],
        [
         2,
         "rani",
         20000,
         "usa",
         null,
         null
        ],
        [
         5,
         null,
         20000,
         "usa",
         null,
         null
        ],
        [
         3,
         "rinku",
         55000,
         "india",
         null,
         null
        ],
        [
         1,
         "manish",
         10000,
         "india",
         null,
         null
        ]
       ],
       "datasetInfos": [],
       "dbfsResultPath": null,
       "isJsonSchema": true,
       "metadata": {},
       "overflow": false,
       "plotOptions": {
        "customPlotOptions": {},
        "displayType": "table",
        "pivotAggregation": null,
        "pivotColumns": null,
        "xColumns": null,
        "yColumns": null
       },
       "removedWidgets": [],
       "schema": [
        {
         "metadata": "{}",
         "name": "emp_id",
         "type": "\"integer\""
        },
        {
         "metadata": "{}",
         "name": "name",
         "type": "\"string\""
        },
        {
         "metadata": "{}",
         "name": "salary",
         "type": "\"integer\""
        },
        {
         "metadata": "{}",
         "name": "address",
         "type": "\"string\""
        },
        {
         "metadata": "{}",
         "name": "loc",
         "type": "\"string\""
        },
        {
         "metadata": "{}",
         "name": "email",
         "type": "\"string\""
        }
       ],
       "type": "table"
      }
     },
     "output_type": "display_data"
    }
   ],
   "source": [
    "df1.display()"
   ]
  },
  {
   "cell_type": "code",
   "execution_count": 0,
   "metadata": {
    "application/vnd.databricks.v1+cell": {
     "cellMetadata": {
      "byteLimit": 2048000,
      "rowLimit": 10000
     },
     "inputWidgets": {},
     "nuid": "8c9eda40-49ec-484c-887e-1ca560688729",
     "showTitle": false,
     "tableResultSettingsMap": {},
     "title": ""
    }
   },
   "outputs": [
    {
     "output_type": "display_data",
     "data": {
      "text/html": [
       "<style scoped>\n",
       "  .table-result-container {\n",
       "    max-height: 300px;\n",
       "    overflow: auto;\n",
       "  }\n",
       "  table, th, td {\n",
       "    border: 1px solid black;\n",
       "    border-collapse: collapse;\n",
       "  }\n",
       "  th, td {\n",
       "    padding: 5px;\n",
       "  }\n",
       "  th {\n",
       "    text-align: left;\n",
       "  }\n",
       "</style><div class='table-result-container'><table class='table-result'><thead style='background-color: white'><tr><th>emp_id</th><th>name</th><th>salary</th><th>address</th><th>loc</th><th>email</th></tr></thead><tbody><tr><td>1</td><td>manish</td><td>10000</td><td>india</td><td>null</td><td>null</td></tr><tr><td>2</td><td>rani</td><td>20000</td><td>usa</td><td>null</td><td>null</td></tr><tr><td>3</td><td>rinku</td><td>55000</td><td>india</td><td>null</td><td>null</td></tr><tr><td>4</td><td>neha</td><td>12000</td><td>usa</td><td>null</td><td>null</td></tr><tr><td>5</td><td>null</td><td>20000</td><td>usa</td><td>null</td><td>null</td></tr><tr><td>6</td><td>rahul</td><td>null</td><td>india</td><td>null</td><td>null</td></tr></tbody></table></div>"
      ]
     },
     "metadata": {
      "application/vnd.databricks.v1+output": {
       "addedWidgets": {},
       "aggData": [],
       "aggError": "",
       "aggOverflow": false,
       "aggSchema": [],
       "aggSeriesLimitReached": false,
       "aggType": "",
       "arguments": {},
       "columnCustomDisplayInfos": {},
       "data": [
        [
         1,
         "manish",
         10000,
         "india",
         null,
         null
        ],
        [
         2,
         "rani",
         20000,
         "usa",
         null,
         null
        ],
        [
         3,
         "rinku",
         55000,
         "india",
         null,
         null
        ],
        [
         4,
         "neha",
         12000,
         "usa",
         null,
         null
        ],
        [
         5,
         null,
         20000,
         "usa",
         null,
         null
        ],
        [
         6,
         "rahul",
         null,
         "india",
         null,
         null
        ]
       ],
       "datasetInfos": [],
       "dbfsResultPath": null,
       "isJsonSchema": true,
       "metadata": {},
       "overflow": false,
       "plotOptions": {
        "customPlotOptions": {},
        "displayType": "table",
        "pivotAggregation": null,
        "pivotColumns": null,
        "xColumns": null,
        "yColumns": null
       },
       "removedWidgets": [],
       "schema": [
        {
         "metadata": "{}",
         "name": "emp_id",
         "type": "\"integer\""
        },
        {
         "metadata": "{}",
         "name": "name",
         "type": "\"string\""
        },
        {
         "metadata": "{}",
         "name": "salary",
         "type": "\"integer\""
        },
        {
         "metadata": "{}",
         "name": "address",
         "type": "\"string\""
        },
        {
         "metadata": "{}",
         "name": "loc",
         "type": "\"string\""
        },
        {
         "metadata": "{}",
         "name": "email",
         "type": "\"string\""
        }
       ],
       "type": "table"
      }
     },
     "output_type": "display_data"
    }
   ],
   "source": [
    "df2 = df.dropDuplicates(['emp_id','salary'])\n",
    "df2.display()"
   ]
  }
 ],
 "metadata": {
  "application/vnd.databricks.v1+notebook": {
   "dashboards": [],
   "environmentMetadata": null,
   "language": "python",
   "notebookMetadata": {
    "pythonIndentUnit": 2
   },
   "notebookName": "Drop() DropDulicates()",
   "widgets": {}
  }
 },
 "nbformat": 4,
 "nbformat_minor": 0
}
