{
 "cells": [
  {
   "cell_type": "code",
   "execution_count": 0,
   "metadata": {
    "application/vnd.databricks.v1+cell": {
     "cellMetadata": {},
     "inputWidgets": {},
     "nuid": "20fd9faf-f845-4474-9dbe-8979dc8a8bc0",
     "showTitle": false,
     "tableResultSettingsMap": {},
     "title": ""
    }
   },
   "outputs": [],
   "source": [
    "/FileStore/tables/emp_1-3.csv"
   ]
  },
  {
   "cell_type": "code",
   "execution_count": 0,
   "metadata": {
    "application/vnd.databricks.v1+cell": {
     "cellMetadata": {
      "byteLimit": 2048000,
      "rowLimit": 10000
     },
     "inputWidgets": {},
     "nuid": "b525a402-c9c2-40a9-b4bd-2f582fe6a7fd",
     "showTitle": false,
     "tableResultSettingsMap": {},
     "title": ""
    }
   },
   "outputs": [],
   "source": [
    "df = spark.read.csv(\"/FileStore/tables/emp_1-3.csv\",header=True,inferSchema=True)"
   ]
  },
  {
   "cell_type": "code",
   "execution_count": 0,
   "metadata": {
    "application/vnd.databricks.v1+cell": {
     "cellMetadata": {
      "byteLimit": 2048000,
      "rowLimit": 10000
     },
     "inputWidgets": {},
     "nuid": "449d57ab-3cca-4c1a-afba-532c2d37efe9",
     "showTitle": false,
     "tableResultSettingsMap": {},
     "title": ""
    }
   },
   "outputs": [
    {
     "output_type": "display_data",
     "data": {
      "text/html": [
       "<style scoped>\n",
       "  .table-result-container {\n",
       "    max-height: 300px;\n",
       "    overflow: auto;\n",
       "  }\n",
       "  table, th, td {\n",
       "    border: 1px solid black;\n",
       "    border-collapse: collapse;\n",
       "  }\n",
       "  th, td {\n",
       "    padding: 5px;\n",
       "  }\n",
       "  th {\n",
       "    text-align: left;\n",
       "  }\n",
       "</style><div class='table-result-container'><table class='table-result'><thead style='background-color: white'><tr><th>emp_id</th><th>name</th><th>salary</th><th>address</th><th>loc</th><th>email</th></tr></thead><tbody><tr><td>1</td><td>manish</td><td>10000</td><td>india</td><td>null</td><td>null</td></tr><tr><td>2</td><td>rani</td><td>20000</td><td>usa</td><td>null</td><td>null</td></tr><tr><td>3</td><td>rinku</td><td>55000</td><td>india</td><td>null</td><td>null</td></tr><tr><td>4</td><td>neha</td><td>12000</td><td>usa</td><td>null</td><td>null</td></tr><tr><td>5</td><td>null</td><td>20000</td><td>usa</td><td>null</td><td>null</td></tr><tr><td>6</td><td>rahul</td><td>null</td><td>india</td><td>null</td><td>null</td></tr><tr><td>1</td><td>manish</td><td>10000</td><td>india</td><td>null</td><td>null</td></tr><tr><td>2</td><td>rani</td><td>20000</td><td>usa</td><td>null</td><td>null</td></tr><tr><td>3</td><td>rinku</td><td>55000</td><td>india</td><td>null</td><td>null</td></tr><tr><td>4</td><td>neha</td><td>12000</td><td>usa</td><td>null</td><td>null</td></tr><tr><td>5</td><td>null</td><td>20000</td><td>usa</td><td>null</td><td>null</td></tr><tr><td>6</td><td>rahul</td><td>null</td><td>india</td><td>null</td><td>null</td></tr></tbody></table></div>"
      ]
     },
     "metadata": {
      "application/vnd.databricks.v1+output": {
       "addedWidgets": {},
       "aggData": [],
       "aggError": "",
       "aggOverflow": false,
       "aggSchema": [],
       "aggSeriesLimitReached": false,
       "aggType": "",
       "arguments": {},
       "columnCustomDisplayInfos": {},
       "data": [
        [
         1,
         "manish",
         10000,
         "india",
         null,
         null
        ],
        [
         2,
         "rani",
         20000,
         "usa",
         null,
         null
        ],
        [
         3,
         "rinku",
         55000,
         "india",
         null,
         null
        ],
        [
         4,
         "neha",
         12000,
         "usa",
         null,
         null
        ],
        [
         5,
         null,
         20000,
         "usa",
         null,
         null
        ],
        [
         6,
         "rahul",
         null,
         "india",
         null,
         null
        ],
        [
         1,
         "manish",
         10000,
         "india",
         null,
         null
        ],
        [
         2,
         "rani",
         20000,
         "usa",
         null,
         null
        ],
        [
         3,
         "rinku",
         55000,
         "india",
         null,
         null
        ],
        [
         4,
         "neha",
         12000,
         "usa",
         null,
         null
        ],
        [
         5,
         null,
         20000,
         "usa",
         null,
         null
        ],
        [
         6,
         "rahul",
         null,
         "india",
         null,
         null
        ]
       ],
       "datasetInfos": [],
       "dbfsResultPath": null,
       "isJsonSchema": true,
       "metadata": {},
       "overflow": false,
       "plotOptions": {
        "customPlotOptions": {},
        "displayType": "table",
        "pivotAggregation": null,
        "pivotColumns": null,
        "xColumns": null,
        "yColumns": null
       },
       "removedWidgets": [],
       "schema": [
        {
         "metadata": "{}",
         "name": "emp_id",
         "type": "\"integer\""
        },
        {
         "metadata": "{}",
         "name": "name",
         "type": "\"string\""
        },
        {
         "metadata": "{}",
         "name": "salary",
         "type": "\"integer\""
        },
        {
         "metadata": "{}",
         "name": "address",
         "type": "\"string\""
        },
        {
         "metadata": "{}",
         "name": "loc",
         "type": "\"string\""
        },
        {
         "metadata": "{}",
         "name": "email",
         "type": "\"string\""
        }
       ],
       "type": "table"
      }
     },
     "output_type": "display_data"
    }
   ],
   "source": [
    "df.display()"
   ]
  },
  {
   "cell_type": "code",
   "execution_count": 0,
   "metadata": {
    "application/vnd.databricks.v1+cell": {
     "cellMetadata": {
      "byteLimit": 2048000,
      "rowLimit": 10000
     },
     "inputWidgets": {},
     "nuid": "39b5b16e-2dd1-4701-879e-70367a323b36",
     "showTitle": false,
     "tableResultSettingsMap": {},
     "title": ""
    }
   },
   "outputs": [
    {
     "output_type": "stream",
     "name": "stdout",
     "output_type": "stream",
     "text": [
      "+------+------+------+-------+----+-----+\n|emp_id|  name|salary|address| loc|email|\n+------+------+------+-------+----+-----+\n|     1|manish| 10000|  india|null| null|\n|     3| rinku| 55000|  india|null| null|\n|     6| rahul|  null|  india|null| null|\n|     1|manish| 10000|  india|null| null|\n|     3| rinku| 55000|  india|null| null|\n|     6| rahul|  null|  india|null| null|\n+------+------+------+-------+----+-----+\n\n"
     ]
    }
   ],
   "source": [
    "df.filter(df.address=='india').show()"
   ]
  },
  {
   "cell_type": "code",
   "execution_count": 0,
   "metadata": {
    "application/vnd.databricks.v1+cell": {
     "cellMetadata": {
      "byteLimit": 2048000,
      "rowLimit": 10000
     },
     "inputWidgets": {},
     "nuid": "4cace45c-b79b-4763-8314-76361fb5e2c2",
     "showTitle": false,
     "tableResultSettingsMap": {},
     "title": ""
    }
   },
   "outputs": [
    {
     "output_type": "stream",
     "name": "stdout",
     "output_type": "stream",
     "text": [
      "+------+----+------+-------+----+-----+\n|emp_id|name|salary|address| loc|email|\n+------+----+------+-------+----+-----+\n|     2|rani| 20000|    usa|null| null|\n|     4|neha| 12000|    usa|null| null|\n|     5|null| 20000|    usa|null| null|\n|     2|rani| 20000|    usa|null| null|\n|     4|neha| 12000|    usa|null| null|\n|     5|null| 20000|    usa|null| null|\n+------+----+------+-------+----+-----+\n\n"
     ]
    }
   ],
   "source": [
    "df.filter(df.address!='india').show()"
   ]
  },
  {
   "cell_type": "code",
   "execution_count": 0,
   "metadata": {
    "application/vnd.databricks.v1+cell": {
     "cellMetadata": {
      "byteLimit": 2048000,
      "rowLimit": 10000
     },
     "inputWidgets": {},
     "nuid": "15bc99f2-a0e9-4f45-b6bf-7f9307ad62c6",
     "showTitle": false,
     "tableResultSettingsMap": {},
     "title": ""
    }
   },
   "outputs": [
    {
     "output_type": "stream",
     "name": "stdout",
     "output_type": "stream",
     "text": [
      "+------+------+------+-------+----+-----+\n|emp_id|  name|salary|address| loc|email|\n+------+------+------+-------+----+-----+\n|     1|manish| 10000|  india|null| null|\n|     2|  rani| 20000|    usa|null| null|\n|     3| rinku| 55000|  india|null| null|\n|     4|  neha| 12000|    usa|null| null|\n|     5|  null| 20000|    usa|null| null|\n|     6| rahul|  null|  india|null| null|\n|     1|manish| 10000|  india|null| null|\n|     2|  rani| 20000|    usa|null| null|\n|     3| rinku| 55000|  india|null| null|\n|     4|  neha| 12000|    usa|null| null|\n|     5|  null| 20000|    usa|null| null|\n|     6| rahul|  null|  india|null| null|\n+------+------+------+-------+----+-----+\n\n"
     ]
    }
   ],
   "source": [
    "df.show()"
   ]
  },
  {
   "cell_type": "code",
   "execution_count": 0,
   "metadata": {
    "application/vnd.databricks.v1+cell": {
     "cellMetadata": {
      "byteLimit": 2048000,
      "rowLimit": 10000
     },
     "inputWidgets": {},
     "nuid": "3ec196f4-22dc-4a31-b827-c478bab4cf85",
     "showTitle": false,
     "tableResultSettingsMap": {},
     "title": ""
    }
   },
   "outputs": [
    {
     "output_type": "stream",
     "name": "stdout",
     "output_type": "stream",
     "text": [
      "+------+------+------+-------+----+-----+\n|emp_id|  name|salary|address| loc|email|\n+------+------+------+-------+----+-----+\n|     1|manish| 10000|  india|null| null|\n|     1|manish| 10000|  india|null| null|\n+------+------+------+-------+----+-----+\n\n"
     ]
    }
   ],
   "source": [
    "df.filter((df.name=='manish')&(df.salary=='10000')).show()"
   ]
  },
  {
   "cell_type": "code",
   "execution_count": 0,
   "metadata": {
    "application/vnd.databricks.v1+cell": {
     "cellMetadata": {
      "byteLimit": 2048000,
      "rowLimit": 10000
     },
     "inputWidgets": {},
     "nuid": "075fe93f-5990-4523-9471-b192e5198704",
     "showTitle": false,
     "tableResultSettingsMap": {},
     "title": ""
    }
   },
   "outputs": [
    {
     "output_type": "stream",
     "name": "stdout",
     "output_type": "stream",
     "text": [
      "+------+------+------+-------+----+-----+\n|emp_id|  name|salary|address| loc|email|\n+------+------+------+-------+----+-----+\n|     1|manish| 10000|  india|null| null|\n|     1|manish| 10000|  india|null| null|\n+------+------+------+-------+----+-----+\n\n"
     ]
    }
   ],
   "source": [
    "df.filter((df.name=='manish') | (df.salary=='10000')).show()"
   ]
  },
  {
   "cell_type": "code",
   "execution_count": 0,
   "metadata": {
    "application/vnd.databricks.v1+cell": {
     "cellMetadata": {
      "byteLimit": 2048000,
      "rowLimit": 10000
     },
     "inputWidgets": {},
     "nuid": "4963c577-c133-4b9a-869e-28108eac1090",
     "showTitle": false,
     "tableResultSettingsMap": {},
     "title": ""
    }
   },
   "outputs": [
    {
     "output_type": "stream",
     "name": "stdout",
     "output_type": "stream",
     "text": [
      "+------+------+------+-------+----+-----+\n|emp_id|  name|salary|address| loc|email|\n+------+------+------+-------+----+-----+\n|     1|manish| 10000|  india|null| null|\n|     2|  rani| 20000|    usa|null| null|\n|     3| rinku| 55000|  india|null| null|\n|     4|  neha| 12000|    usa|null| null|\n|     5|  null| 20000|    usa|null| null|\n|     6| rahul|  null|  india|null| null|\n|     1|manish| 10000|  india|null| null|\n|     2|  rani| 20000|    usa|null| null|\n|     3| rinku| 55000|  india|null| null|\n|     4|  neha| 12000|    usa|null| null|\n|     5|  null| 20000|    usa|null| null|\n|     6| rahul|  null|  india|null| null|\n+------+------+------+-------+----+-----+\n\n"
     ]
    }
   ],
   "source": [
    "df.show()"
   ]
  },
  {
   "cell_type": "code",
   "execution_count": 0,
   "metadata": {
    "application/vnd.databricks.v1+cell": {
     "cellMetadata": {
      "byteLimit": 2048000,
      "rowLimit": 10000
     },
     "inputWidgets": {},
     "nuid": "784048be-6559-40ae-810d-2ade323c4c8f",
     "showTitle": false,
     "tableResultSettingsMap": {},
     "title": ""
    }
   },
   "outputs": [
    {
     "output_type": "stream",
     "name": "stdout",
     "output_type": "stream",
     "text": [
      "+------+-----+------+-------+----+-----+\n|emp_id| name|salary|address| loc|email|\n+------+-----+------+-------+----+-----+\n|     2| rani| 20000|    usa|null| null|\n|     3|rinku| 55000|  india|null| null|\n|     6|rahul|  null|  india|null| null|\n|     2| rani| 20000|    usa|null| null|\n|     3|rinku| 55000|  india|null| null|\n|     6|rahul|  null|  india|null| null|\n+------+-----+------+-------+----+-----+\n\n"
     ]
    }
   ],
   "source": [
    "df.filter(df.name.startswith(\"r\")).show()"
   ]
  },
  {
   "cell_type": "code",
   "execution_count": 0,
   "metadata": {
    "application/vnd.databricks.v1+cell": {
     "cellMetadata": {
      "byteLimit": 2048000,
      "rowLimit": 10000
     },
     "inputWidgets": {},
     "nuid": "1b09eed7-022c-46f4-8623-d40219a87cd6",
     "showTitle": false,
     "tableResultSettingsMap": {},
     "title": ""
    }
   },
   "outputs": [
    {
     "output_type": "stream",
     "name": "stdout",
     "output_type": "stream",
     "text": [
      "+------+-----+------+-------+----+-----+\n|emp_id| name|salary|address| loc|email|\n+------+-----+------+-------+----+-----+\n|     6|rahul|  null|  india|null| null|\n|     6|rahul|  null|  india|null| null|\n+------+-----+------+-------+----+-----+\n\n"
     ]
    }
   ],
   "source": [
    "df.filter(df.name.endswith(\"l\")).show()"
   ]
  },
  {
   "cell_type": "code",
   "execution_count": 0,
   "metadata": {
    "application/vnd.databricks.v1+cell": {
     "cellMetadata": {
      "byteLimit": 2048000,
      "rowLimit": 10000
     },
     "inputWidgets": {},
     "nuid": "dc88244e-2041-40cb-ac68-be43ba241189",
     "showTitle": false,
     "tableResultSettingsMap": {},
     "title": ""
    }
   },
   "outputs": [
    {
     "output_type": "stream",
     "name": "stdout",
     "output_type": "stream",
     "text": [
      "+------+------+------+-------+----+-----+\n|emp_id|  name|salary|address| loc|email|\n+------+------+------+-------+----+-----+\n|     1|manish| 10000|  india|null| null|\n|     2|  rani| 20000|    usa|null| null|\n|     3| rinku| 55000|  india|null| null|\n|     4|  neha| 12000|    usa|null| null|\n|     5|  null| 20000|    usa|null| null|\n|     6| rahul|  null|  india|null| null|\n|     1|manish| 10000|  india|null| null|\n|     2|  rani| 20000|    usa|null| null|\n|     3| rinku| 55000|  india|null| null|\n|     4|  neha| 12000|    usa|null| null|\n|     5|  null| 20000|    usa|null| null|\n|     6| rahul|  null|  india|null| null|\n+------+------+------+-------+----+-----+\n\n"
     ]
    }
   ],
   "source": [
    "df.show()"
   ]
  },
  {
   "cell_type": "code",
   "execution_count": 0,
   "metadata": {
    "application/vnd.databricks.v1+cell": {
     "cellMetadata": {
      "byteLimit": 2048000,
      "rowLimit": 10000
     },
     "inputWidgets": {},
     "nuid": "d74cc959-f062-40c4-b8b9-38485d134e31",
     "showTitle": false,
     "tableResultSettingsMap": {},
     "title": ""
    }
   },
   "outputs": [
    {
     "output_type": "stream",
     "name": "stdout",
     "output_type": "stream",
     "text": [
      "+------+-----+------+-------+----+-----+\n|emp_id| name|salary|address| loc|email|\n+------+-----+------+-------+----+-----+\n|     6|rahul|  null|  india|null| null|\n|     6|rahul|  null|  india|null| null|\n+------+-----+------+-------+----+-----+\n\n"
     ]
    }
   ],
   "source": [
    "df.filter(df.name.like('%ul%')).show()\n"
   ]
  }
 ],
 "metadata": {
  "application/vnd.databricks.v1+notebook": {
   "dashboards": [],
   "environmentMetadata": null,
   "language": "python",
   "notebookMetadata": {
    "pythonIndentUnit": 2
   },
   "notebookName": "Filter()",
   "widgets": {}
  }
 },
 "nbformat": 4,
 "nbformat_minor": 0
}
